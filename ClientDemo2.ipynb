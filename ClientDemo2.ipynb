{
 "cells": [
  {
   "cell_type": "markdown",
   "id": "ca63a123-586a-4ca6-a4fa-af28249dfe8a",
   "metadata": {},
   "source": [
    "# Virl Client Demo 2"
   ]
  },
  {
   "cell_type": "markdown",
   "id": "db9fa1af-30aa-4146-8005-15635a41c8a7",
   "metadata": {},
   "source": [
    "## Setup"
   ]
  },
  {
   "cell_type": "code",
   "execution_count": 55,
   "id": "dc7d688d-c294-45e2-89c2-5e5909f28f78",
   "metadata": {},
   "outputs": [],
   "source": [
    "import urllib3\n",
    "from virl2_client import ClientLibrary\n",
    "import env\n",
    "import logging\n",
    "import sys\n",
    "import os\n",
    "import netmiko\n",
    "\n",
    "urllib3.disable_warnings(urllib3.exceptions.InsecureRequestWarning)\n",
    "\n",
    "logging.basicConfig(stream=sys.stdout, level=logging.INFO, format='%(message)s')\n",
    "log = logging.getLogger(__name__)\n",
    "\n",
    "# Read environment variables\n",
    "cml_server_url = env.config['CML_SERVER_URL']\n",
    "cml_server_ip = env.config['CML_SERVER_IP']\n",
    "cml_username = env.config['CML_USERNAME']\n",
    "cml_password = env.config['CML_PASSWORD']\n",
    "LAB_TITLE = \"CML_IS_AWESOME\""
   ]
  },
  {
   "cell_type": "markdown",
   "id": "dbe5cced-69bb-4ac0-bc4c-9000ac4d16bc",
   "metadata": {},
   "source": [
    "### Client"
   ]
  },
  {
   "cell_type": "code",
   "execution_count": 56,
   "id": "0ef4585d-62c9-4fa9-935e-84a1ba82a20c",
   "metadata": {},
   "outputs": [
    {
     "name": "stdout",
     "output_type": "stream",
     "text": [
      "SSL Verification disabled\n",
      "LOGGING INFO: Successfully connected with CML through the API\n"
     ]
    }
   ],
   "source": [
    "client = ClientLibrary(cml_server_url, cml_username, cml_password, ssl_verify=False, raise_for_auth_failure=True, allow_http=True)\n",
    "log.info(\"LOGGING INFO: Successfully connected with CML through the API\")"
   ]
  },
  {
   "cell_type": "markdown",
   "id": "9d434ad7-1f74-4ea2-9c2b-ee006f19cc93",
   "metadata": {},
   "source": [
    "## Read in the config file"
   ]
  },
  {
   "cell_type": "code",
   "execution_count": 57,
   "id": "c4289bbc-45ac-495c-8a09-325eab82b46c",
   "metadata": {},
   "outputs": [
    {
     "name": "stdout",
     "output_type": "stream",
     "text": [
      "LOGGING INFO: Successfully read in the config files\n"
     ]
    }
   ],
   "source": [
    "config_files = os.listdir(path='./config')\n",
    "config_files = [file for file in config_files if \".txt\" in file]\n",
    "log.info(\"LOGGING INFO: Successfully read in the config files\")\n",
    "\n",
    "routers = []\n",
    "for file in config_files:\n",
    "    routers.append(file[:-4])"
   ]
  },
  {
   "cell_type": "markdown",
   "id": "e4e4ecfa-a1d8-41e3-8d1e-c325fc8fb29d",
   "metadata": {},
   "source": [
    "## Create a new lab in CML"
   ]
  },
  {
   "cell_type": "code",
   "execution_count": 58,
   "id": "34cf71c4-4d42-43f1-a1a5-0da84bd90c13",
   "metadata": {},
   "outputs": [
    {
     "name": "stdout",
     "output_type": "stream",
     "text": [
      "LOGGING INFO: Successfully created the lab in CML\n"
     ]
    }
   ],
   "source": [
    "lab = client.create_lab(title=LAB_TITLE)\n",
    "log.info(\"LOGGING INFO: Successfully created the lab in CML\")"
   ]
  },
  {
   "cell_type": "markdown",
   "id": "cbf26131-4436-423f-a4c7-432e2a476cf1",
   "metadata": {},
   "source": [
    "## Create the nodes in the lab"
   ]
  },
  {
   "cell_type": "code",
   "execution_count": 59,
   "id": "2601d7fa-47cb-4add-8f6d-786fca4f2bb5",
   "metadata": {},
   "outputs": [
    {
     "name": "stdout",
     "output_type": "stream",
     "text": [
      "Waiting for lab 0d624a to converge\n",
      "Lab 0d624a has booted\n",
      "Waiting for lab 0d624a to converge\n",
      "Lab 0d624a has booted\n",
      "Waiting for lab 0d624a to converge\n",
      "Lab 0d624a has booted\n",
      "Waiting for lab 0d624a to converge\n",
      "Lab 0d624a has booted\n",
      "LOGGING INFO: Successfully created the nodes in the lab\n"
     ]
    }
   ],
   "source": [
    "coordinates = [(0,0), (200, 0), (200,200), (0, 200)]\n",
    "coordinates_counter = 0 \n",
    "for router in routers:\n",
    "    x, y = coordinates[coordinates_counter]\n",
    "    lab.create_node(label=router, node_definition='csr1000v', populate_interfaces=8, x=x, y=y)\n",
    "    coordinates_counter += 1\n",
    "log.info(\"LOGGING INFO: Successfully created the nodes in the lab\")"
   ]
  },
  {
   "cell_type": "markdown",
   "id": "a49c3157-e87f-46b0-a0b0-6666cd7fbb70",
   "metadata": {},
   "source": [
    "## Configure the nodes in the lab"
   ]
  },
  {
   "cell_type": "code",
   "execution_count": 60,
   "id": "02456d2e-ae95-4b27-a733-02abf91ab0c5",
   "metadata": {},
   "outputs": [
    {
     "name": "stdout",
     "output_type": "stream",
     "text": [
      "Added interface Interface: GigabitEthernet1\n",
      "Added interface Interface: GigabitEthernet4\n",
      "Added interface Interface: GigabitEthernet1\n",
      "Added interface Interface: GigabitEthernet2\n",
      "Added interface Interface: GigabitEthernet2\n",
      "Added interface Interface: GigabitEthernet4\n",
      "Added interface Interface: Loopback0\n",
      "Added interface Interface: GigabitEthernet1\n",
      "Added interface Interface: GigabitEthernet3\n",
      "Added interface Interface: GigabitEthernet4\n",
      "Added interface Interface: Loopback0\n",
      "Added interface Interface: Loopback0\n",
      "Added interface Interface: GigabitEthernet3\n",
      "Added interface Interface: Loopback0\n",
      "Added interface Interface: GigabitEthernet2\n",
      "Added interface Interface: GigabitEthernet4\n",
      "Added interface Interface: GigabitEthernet3\n",
      "Added interface Interface: GigabitEthernet2\n",
      "Added interface Interface: GigabitEthernet3\n",
      "Added interface Interface: GigabitEthernet1\n",
      "LOGGING INFO: Successfully configured the nodes in the lab\n"
     ]
    }
   ],
   "source": [
    "for node in lab.nodes():\n",
    "    config = open(f\"./config/{node.label}.txt\", 'r').read()\n",
    "    node.config = config\n",
    "log.info(\"LOGGING INFO: Successfully configured the nodes in the lab\")"
   ]
  },
  {
   "cell_type": "markdown",
   "id": "4279e1dc-ba67-4d29-8397-a72025172351",
   "metadata": {},
   "source": [
    "## Connect the nodes to each other"
   ]
  },
  {
   "cell_type": "code",
   "execution_count": 61,
   "id": "b881bf16-b422-4c7d-86a0-70aa6bf19fda",
   "metadata": {},
   "outputs": [
    {
     "name": "stdout",
     "output_type": "stream",
     "text": [
      "Waiting for lab 0d624a to converge\n",
      "Lab 0d624a has booted\n",
      "Waiting for lab 0d624a to converge\n",
      "Lab 0d624a has booted\n",
      "Waiting for lab 0d624a to converge\n",
      "Lab 0d624a has booted\n",
      "Waiting for lab 0d624a to converge\n",
      "Lab 0d624a has booted\n",
      "LOGGING INFO: Successfully created links between the nodes\n"
     ]
    }
   ],
   "source": [
    "interface_pairs = [('001', '002'), ('002', '003'), ('003', '004'), ('004', '001')]\n",
    "for intf1, intf2 in interface_pairs:\n",
    "    for interface in lab.interfaces():\n",
    "        if intf1 in interface.node.label and '2' in interface.label:\n",
    "            interface1 = interface\n",
    "        if intf2 in interface.node.label and '3' in interface.label:\n",
    "            interface2 = interface\n",
    "    lab.create_link(interface1, interface2)\n",
    "log.info(\"LOGGING INFO: Successfully created links between the nodes\")"
   ]
  },
  {
   "cell_type": "markdown",
   "id": "af3ab91c-8bfc-4155-aec2-a3434019bd77",
   "metadata": {},
   "source": [
    "## Get lab testbed"
   ]
  },
  {
   "cell_type": "code",
   "execution_count": 62,
   "id": "e97f7d6b-7139-445a-9456-777c10bc7428",
   "metadata": {},
   "outputs": [
    {
     "name": "stdout",
     "output_type": "stream",
     "text": [
      "LOGGING INFO: Successfully obtained a testbed file\n"
     ]
    }
   ],
   "source": [
    "pyats_testbed = lab.get_pyats_testbed()\n",
    "# Write the YAML testbed out to a file\n",
    "with open(\"lab_testbed.yaml\", \"w\") as f: \n",
    "    f.write(pyats_testbed)\n",
    "log.info(\"LOGGING INFO: Successfully obtained a testbed file\")"
   ]
  },
  {
   "cell_type": "markdown",
   "id": "0d39dccb-0294-4193-87ba-358c42844759",
   "metadata": {},
   "source": [
    "## Edit Testbed"
   ]
  },
  {
   "cell_type": "code",
   "execution_count": null,
   "id": "fc94b250-000c-4464-95bc-0e015af91bd8",
   "metadata": {},
   "outputs": [],
   "source": [
    "#Add credentials to yaml file\n",
    "doc = yaml.load(pyats_testbed)\n",
    "#doc[\"devices\"][\"terminal_server\"][\"connections\"][\"cli\"][\"username\"] = cml_username\n",
    "#doc[\"devices\"][\"terminal_server\"][\"connections\"][\"cli\"][\"password\"] = cml_password\n",
    "#doc[\"devices\"][\"terminal_server\"][\"credentials\"][\"default\"][\"username\"] = cml_username\n",
    "#doc[\"devices\"][\"terminal_server\"][\"credentials\"][\"default\"][\"password\"] = cml_password\n",
    "\n",
    "# Write the YAML testbed out to a file\n",
    "with open(\"lab_testbed.yaml\", \"w\") as f: \n",
    "    yaml.dump(doc,f)"
   ]
  },
  {
   "cell_type": "markdown",
   "id": "5782d8df-c12a-41e7-982b-db227550e7fb",
   "metadata": {},
   "source": [
    "## Make them start"
   ]
  },
  {
   "cell_type": "code",
   "execution_count": 63,
   "id": "f7be9b9d-1325-4008-85da-b194e024fb04",
   "metadata": {},
   "outputs": [
    {
     "name": "stdout",
     "output_type": "stream",
     "text": [
      "Waiting for lab 0d624a to converge\n",
      "Lab has not converged, attempt 0/500, waiting...\n",
      "Lab has not converged, attempt 10/500, waiting...\n",
      "Lab has not converged, attempt 20/500, waiting...\n",
      "Lab has not converged, attempt 30/500, waiting...\n",
      "Lab 0d624a has booted\n"
     ]
    }
   ],
   "source": [
    "lab.start()"
   ]
  },
  {
   "cell_type": "markdown",
   "id": "84c8a4db-bf2a-4513-accf-3999018ec79f",
   "metadata": {},
   "source": [
    "## Run commands with Netmiko"
   ]
  },
  {
   "cell_type": "code",
   "execution_count": null,
   "id": "1dd79424-d67b-4467-8711-29cfa914deea",
   "metadata": {},
   "outputs": [],
   "source": [
    "our_lab = client.find_labs_by_title(LAB_TITLE)[0]\n",
    "xr_node = our_lab.get_node_by_label('R003')\n",
    "\n",
    "# open the Netmiko connection via the terminal server\n",
    "# (SSH to the controller connects to the terminal server)\n",
    "c = netmiko.ConnectHandler(device_type = 'terminal_server',\n",
    "                           host = cml_server_ip,\n",
    "                           username = cml_username,\n",
    "                           password = cml_password)\n",
    "\n",
    "# send CR, get a prompt on terminal server\n",
    "c.write_channel('\\r')\n",
    "\n",
    "# open the connection to the console\n",
    "c.write_channel(f'open /{our_lab.id}/{xr_node.id}/0\\r')\n",
    "\n",
    "# router login\n",
    "# this makes an assumption that it's required to login\n",
    "c.write_channel('\\r')\n",
    "c.write_channel(cml_username + '\\r')\n",
    "c.write_channel(cml_password + '\\r')\n",
    "\n",
    "# get the list of interfaces\n",
    "result = c.send_command('show ip int brief')\n",
    "print(result)"
   ]
  },
  {
   "cell_type": "code",
   "execution_count": null,
   "id": "d697044f-3bf5-4d15-8767-d93bfa354471",
   "metadata": {},
   "outputs": [],
   "source": [
    "# get the inventory\n",
    "result = c.send_command('show inventory')\n",
    "c.find_prompt()\n",
    "print(result)"
   ]
  },
  {
   "cell_type": "code",
   "execution_count": null,
   "id": "db827f6e-7b66-45df-a639-b88bd65ad1f7",
   "metadata": {},
   "outputs": [],
   "source": [
    "lab.stop()\n",
    "lab.wipe()\n",
    "lab.remove()"
   ]
  }
 ],
 "metadata": {
  "kernelspec": {
   "display_name": "Python 3 (ipykernel)",
   "language": "python",
   "name": "python3"
  },
  "language_info": {
   "codemirror_mode": {
    "name": "ipython",
    "version": 3
   },
   "file_extension": ".py",
   "mimetype": "text/x-python",
   "name": "python",
   "nbconvert_exporter": "python",
   "pygments_lexer": "ipython3",
   "version": "3.9.2"
  }
 },
 "nbformat": 4,
 "nbformat_minor": 5
}
